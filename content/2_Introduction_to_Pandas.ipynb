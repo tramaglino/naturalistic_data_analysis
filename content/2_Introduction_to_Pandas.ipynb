{
 "cells": [
  {
   "cell_type": "markdown",
   "metadata": {},
   "source": [
    "# Introduction to Pandas\n",
    "\n",
    "*Written by Luke Chang & Jin Cheong*\n",
    "\n",
    "Analyzing data requires being facile with manipulating and transforming datasets to be able to test specific hypotheses. Data come in all different types of flavors and there are many different tools in the Python ecosystem to work with pretty much any type of data you might encounter. For example, you might be interested in working with functional neuroimaging data that is four dimensional. Three dimensional matrices contain brain activations in space, and these data can change over time in the 4th dimension. This type of data is well suited for [numpy](https://numpy.org/) and specialized brain imaging packages such as [nilearn](https://nilearn.github.io/). The majority of data, however, is typically in some version of a two-dimensional observations by features format as might be seen in an excel spreadsheet, a SQL table, or in a comma delimited format (i.e., csv). \n",
    "\n",
    "In Python, the [Pandas](https://pandas.pydata.org/) library is a powerful tool to work with this type of data. This is a very large library with a tremendous amount of functionality. In this tutorial, we will cover the basics of how to load and manipulate data and will focus on common to data munging tasks.\n",
    "\n",
    "For those interested in diving deeper into Pandas, there are many online resources. There is the [Pandas online documention](https://pandas.pydata.org/), [stackoverflow](https://stackoverflow.com/questions/tagged/pandas), and [medium blogposts](https://medium.com/search?q=pandas). I highly recommend  Jake Vanderplas's terrific [Python Data Science Handbook](https://jakevdp.github.io/PythonDataScienceHandbook/).   In addition, here is a brief [video](https://neurohackademy.org/course/complex-data-structures/) by Tal Yarkoni providing a useful introduction to pandas. \n",
    "\n",
    "After the tutorial you will have the chance to apply the methods to a new set of data. "
   ]
  },
  {
   "cell_type": "markdown",
   "metadata": {},
   "source": [
    "## Pandas Objects\n",
    "\n",
    "Pandas has several objects that are commonly used (i.e., Series, DataFrame, Index). At it's core, Pandas Objects are enhanced numpy arrays where columns and rows can have special names and there are lots of methods to operate on the data. See Jake Vanderplas's [tutorial](https://github.com/jakevdp/PythonDataScienceHandbook/blob/master/notebooks/03.01-Introducing-Pandas-Objects.ipynb) for a more in depth overview."
   ]
  },
  {
   "cell_type": "markdown",
   "metadata": {},
   "source": [
    "### Series\n",
    "A pandas `Series` is a one-dimensional array of indexed data."
   ]
  },
  {
   "cell_type": "code",
   "execution_count": null,
   "metadata": {
    "ExecuteTime": {
     "end_time": "2020-03-31T04:06:34.906085Z",
     "start_time": "2020-03-31T04:06:34.654377Z"
    }
   },
   "outputs": [],
   "source": [
    "import pandas as pd\n",
    "\n",
    "data = pd.Series([1, 2, 3, 4, 5])\n",
    "data"
   ]
  },
  {
   "cell_type": "markdown",
   "metadata": {},
   "source": [
    "The indices can be integers like in the example above. Alternatively, the indices can be labels."
   ]
  },
  {
   "cell_type": "code",
   "execution_count": null,
   "metadata": {
    "ExecuteTime": {
     "end_time": "2020-03-31T04:06:34.912944Z",
     "start_time": "2020-03-31T04:06:34.908326Z"
    }
   },
   "outputs": [],
   "source": [
    "data = pd.Series([1,2,3], index=['a', 'b', 'c'])\n",
    "data"
   ]
  },
  {
   "cell_type": "markdown",
   "metadata": {},
   "source": [
    "Also, `Series` can be easily created from dictionaries"
   ]
  },
  {
   "cell_type": "code",
   "execution_count": null,
   "metadata": {
    "ExecuteTime": {
     "end_time": "2020-03-31T04:06:34.919658Z",
     "start_time": "2020-03-31T04:06:34.914814Z"
    }
   },
   "outputs": [],
   "source": [
    "data = pd.Series({'A':5, 'B':3, 'C':1})\n",
    "data"
   ]
  },
  {
   "cell_type": "markdown",
   "metadata": {},
   "source": [
    "### DataFrame\n",
    "If a `Series` is a one-dimensional indexed array, the `DataFrame` is a two-dimensional indexed array. It can be thought of as a collection of Series objects, where each Series represents a column, or as an enhanced 2D numpy array. \n",
    "\n",
    "In a `DataFrame`, the index refers to labels for each row, while columns describe each column.\n",
    "\n",
    "First, let's create a `DataFrame` using random numbers generated from numpy."
   ]
  },
  {
   "cell_type": "code",
   "execution_count": null,
   "metadata": {
    "ExecuteTime": {
     "end_time": "2020-03-31T04:06:34.931582Z",
     "start_time": "2020-03-31T04:06:34.921814Z"
    }
   },
   "outputs": [],
   "source": [
    "import numpy as np\n",
    "\n",
    "data = pd.DataFrame(np.random.random((5, 3)))\n",
    "data"
   ]
  },
  {
   "cell_type": "markdown",
   "metadata": {},
   "source": [
    "We could also initialize with column names"
   ]
  },
  {
   "cell_type": "code",
   "execution_count": null,
   "metadata": {
    "ExecuteTime": {
     "end_time": "2020-03-31T04:06:34.941794Z",
     "start_time": "2020-03-31T04:06:34.933174Z"
    }
   },
   "outputs": [],
   "source": [
    "data = pd.DataFrame(np.random.random((5, 3)), columns=['A', 'B', 'C'])\n",
    "data"
   ]
  },
  {
   "cell_type": "markdown",
   "metadata": {
    "ExecuteTime": {
     "end_time": "2020-03-30T03:26:39.232314Z",
     "start_time": "2020-03-30T03:26:39.227566Z"
    }
   },
   "source": [
    "Alternatively, we could create a `DataFrame` from multiple `Series` objects."
   ]
  },
  {
   "cell_type": "code",
   "execution_count": null,
   "metadata": {
    "ExecuteTime": {
     "end_time": "2020-03-31T04:06:34.951676Z",
     "start_time": "2020-03-31T04:06:34.943440Z"
    }
   },
   "outputs": [],
   "source": [
    "a = pd.Series([1, 2, 3, 4])\n",
    "b = pd.Series(['a', 'b', 'c', 'd'])\n",
    "data = pd.DataFrame({'Numbers':a, 'Letters':b})\n",
    "data"
   ]
  },
  {
   "cell_type": "markdown",
   "metadata": {},
   "source": [
    "Or a python dictionary"
   ]
  },
  {
   "cell_type": "code",
   "execution_count": null,
   "metadata": {
    "ExecuteTime": {
     "end_time": "2020-03-31T04:06:34.984981Z",
     "start_time": "2020-03-31T04:06:34.955336Z"
    }
   },
   "outputs": [],
   "source": [
    "data = pd.DataFrame({'State':['California', 'Colorado', 'New Hampshire'], \n",
    "                     'Capital':['Sacremento', 'Denver', 'Concord']})\n",
    "data"
   ]
  },
  {
   "cell_type": "markdown",
   "metadata": {},
   "source": [
    "## Loading Data\n",
    "Loading data is fairly straightfoward in Pandas. Type `pd.read` then press tab to see a list of functions that can load specific file formats such as: csv, excel, spss, and sql. \n",
    "\n",
    "In this example, we will use `pd.read_csv` to load a .csv file into a dataframe. \n",
    "Note that read_csv() has many options that can be used to make sure you load the data correctly. You can explore the docstrings for a function to get more information about the inputs and general useage guidelines by running `pd.read_csv?` "
   ]
  },
  {
   "cell_type": "code",
   "execution_count": null,
   "metadata": {
    "ExecuteTime": {
     "end_time": "2020-03-31T04:06:35.042712Z",
     "start_time": "2020-03-31T04:06:34.987943Z"
    }
   },
   "outputs": [],
   "source": [
    "pd.read_csv?"
   ]
  },
  {
   "cell_type": "markdown",
   "metadata": {},
   "source": [
    "To load a csv file we will need to specify either the relative or absolute path to the file.\n",
    "\n",
    "The command `pwd` will print the path of the current working directory."
   ]
  },
  {
   "cell_type": "code",
   "execution_count": null,
   "metadata": {
    "ExecuteTime": {
     "end_time": "2020-03-31T04:06:35.048733Z",
     "start_time": "2020-03-31T04:06:35.044825Z"
    }
   },
   "outputs": [],
   "source": [
    "pwd"
   ]
  },
  {
   "cell_type": "markdown",
   "metadata": {
    "ExecuteTime": {
     "end_time": "2019-04-12T03:32:48.507978Z",
     "start_time": "2019-04-12T03:32:48.503985Z"
    }
   },
   "source": [
    "We will now load the Pandas has many ways to read data different data formats into a dataframe.  Here we will use the `pd.read_csv` function."
   ]
  },
  {
   "cell_type": "code",
   "execution_count": null,
   "metadata": {
    "ExecuteTime": {
     "end_time": "2020-03-31T04:06:35.055740Z",
     "start_time": "2020-03-31T04:06:35.050405Z"
    }
   },
   "outputs": [],
   "source": [
    "df = pd.read_csv('../data/salary.csv', sep = ',')\n"
   ]
  },
  {
   "cell_type": "markdown",
   "metadata": {},
   "source": [
    "### Ways to check the dataframe\n",
    "There are many ways to examine your dataframe. One easy way is to just call the dataframe variable itself. "
   ]
  },
  {
   "cell_type": "code",
   "execution_count": null,
   "metadata": {
    "ExecuteTime": {
     "end_time": "2020-03-31T04:06:35.070274Z",
     "start_time": "2020-03-31T04:06:35.057267Z"
    },
    "scrolled": false
   },
   "outputs": [],
   "source": [
    "df"
   ]
  },
  {
   "cell_type": "markdown",
   "metadata": {
    "ExecuteTime": {
     "end_time": "2017-01-16T18:35:36.660858",
     "start_time": "2017-01-16T18:35:36.656319"
    }
   },
   "source": [
    "However, often the dataframes can be large and we may be only interested in seeing the first few rows.  `df.head()` is useful for this purpose."
   ]
  },
  {
   "cell_type": "code",
   "execution_count": null,
   "metadata": {
    "ExecuteTime": {
     "end_time": "2020-03-31T04:06:35.080036Z",
     "start_time": "2020-03-31T04:06:35.071946Z"
    }
   },
   "outputs": [],
   "source": [
    "df.head()"
   ]
  },
  {
   "cell_type": "markdown",
   "metadata": {},
   "source": [
    "On the top row, you have column names, that can be called like a dictionary (a dataframe can be essentially thought of as a dictionary with column names as the keys). The left most column (0,1,2,3,4...) is called the index of the dataframe. The default index is sequential integers, but it can be set to anything as long as each row is unique (e.g., subject IDs)"
   ]
  },
  {
   "cell_type": "code",
   "execution_count": null,
   "metadata": {
    "ExecuteTime": {
     "end_time": "2020-03-31T04:06:35.085359Z",
     "start_time": "2020-03-31T04:06:35.081513Z"
    }
   },
   "outputs": [],
   "source": [
    "print(\"Indexes\")\n",
    "print(df.index)\n",
    "print(\"Columns\")\n",
    "print(df.columns)\n",
    "print(\"Columns are like keys of a dictionary\")\n",
    "print(df.keys())"
   ]
  },
  {
   "cell_type": "markdown",
   "metadata": {},
   "source": [
    "You can access the values of a column by calling it directly. Single bracket returns a `Series` and double bracket returns a `dataframe`.\n",
    "\n",
    "Let's return the first 10 rows of salary."
   ]
  },
  {
   "cell_type": "code",
   "execution_count": null,
   "metadata": {
    "ExecuteTime": {
     "end_time": "2020-03-31T04:06:35.091462Z",
     "start_time": "2020-03-31T04:06:35.087009Z"
    }
   },
   "outputs": [],
   "source": [
    "df['salary'][:10]"
   ]
  },
  {
   "cell_type": "markdown",
   "metadata": {
    "ExecuteTime": {
     "end_time": "2020-03-30T05:43:56.143768Z",
     "start_time": "2020-03-30T05:43:56.139066Z"
    }
   },
   "source": [
    "`shape` is another useful method for getting the dimensions of the matrix.  \n",
    "\n",
    "We will print the number of rows and columns in this data set using fstring formatting. First, you need to specify a string starting with 'f', like this `f'anything'`. It is easy to insert variables with curly brackets like this `f'rows: {rows}'`. \n",
    "\n",
    "[Here](https://realpython.com/python-f-strings/) is more info about formatting text."
   ]
  },
  {
   "cell_type": "code",
   "execution_count": null,
   "metadata": {
    "ExecuteTime": {
     "end_time": "2020-03-31T04:06:35.095691Z",
     "start_time": "2020-03-31T04:06:35.093060Z"
    }
   },
   "outputs": [],
   "source": [
    "rows, cols = df.shape\n",
    "print(f'There are {rows} rows and {cols} columns in this data set') "
   ]
  },
  {
   "cell_type": "markdown",
   "metadata": {
    "ExecuteTime": {
     "end_time": "2017-01-16T18:36:43.976308",
     "start_time": "2017-01-16T18:36:43.972047"
    }
   },
   "source": [
    "### Describing the data\n",
    "We can use the `.describe()` method to get a quick summary of the continuous values of the data frame. We will `.transpose()` the output to make it slightly easier to read. "
   ]
  },
  {
   "cell_type": "code",
   "execution_count": null,
   "metadata": {
    "ExecuteTime": {
     "end_time": "2020-03-31T04:06:35.120997Z",
     "start_time": "2020-03-31T04:06:35.097367Z"
    },
    "scrolled": true
   },
   "outputs": [],
   "source": [
    "df.describe().transpose()"
   ]
  },
  {
   "cell_type": "markdown",
   "metadata": {},
   "source": [
    "We can also get quick summary of a pandas series, or specific column of a pandas dataframe."
   ]
  },
  {
   "cell_type": "code",
   "execution_count": null,
   "metadata": {
    "ExecuteTime": {
     "end_time": "2020-03-31T04:06:35.128873Z",
     "start_time": "2020-03-31T04:06:35.122936Z"
    }
   },
   "outputs": [],
   "source": [
    "df.departm.describe()"
   ]
  },
  {
   "cell_type": "markdown",
   "metadata": {},
   "source": [
    "Sometimes, you will want to know how many data points are associated with a specific variable for categorical data. The `value_counts` method can be used for this goal.\n",
    "\n",
    "For example, how many males and females are in this dataset?  "
   ]
  },
  {
   "cell_type": "code",
   "execution_count": null,
   "metadata": {
    "ExecuteTime": {
     "end_time": "2020-03-31T04:06:35.134924Z",
     "start_time": "2020-03-31T04:06:35.130347Z"
    }
   },
   "outputs": [],
   "source": [
    "df['gender'].value_counts()"
   ]
  },
  {
   "cell_type": "markdown",
   "metadata": {},
   "source": [
    "You can see that there are more than 2 genders specified in our data. \n",
    "\n",
    "This is likely an error in the data collection process. It's always up to the data analyst to decide what to do in these cases. Because we don't know what the true value should have been, let's just remove the row from the dataframe by finding all rows that are not '2'."
   ]
  },
  {
   "cell_type": "code",
   "execution_count": null,
   "metadata": {
    "ExecuteTime": {
     "end_time": "2020-03-31T04:06:35.142133Z",
     "start_time": "2020-03-31T04:06:35.136515Z"
    }
   },
   "outputs": [],
   "source": [
    "df = df.loc[df['gender']!=2]\n",
    "\n",
    "df['gender'].value_counts()"
   ]
  },
  {
   "cell_type": "markdown",
   "metadata": {
    "ExecuteTime": {
     "end_time": "2017-01-16T18:36:01.082619",
     "start_time": "2017-01-16T18:36:01.078188"
    }
   },
   "source": [
    "### Dealing with missing values\n",
    "Data are always messy and often have lots of missing values. There are many different ways, in which missing data might present `NaN`, `None`, or `NA`, Sometimes researchers code missing values with specific numeric codes such as 999999. It is important to find these as they can screw up your analyses if they are hiding in your data. \n",
    "\n",
    "If the missing values are using a standard pandas or numpy value such as `NaN`, `None`, or `NA`, we can identify where the missing values are as booleans using the `isnull()` method. \n",
    "\n",
    "The `isnull()` method will return a dataframe with True/False values on whether a datapoint is null or not a number (nan)."
   ]
  },
  {
   "cell_type": "code",
   "execution_count": null,
   "metadata": {
    "ExecuteTime": {
     "end_time": "2020-03-31T04:06:35.155870Z",
     "start_time": "2020-03-31T04:06:35.143747Z"
    },
    "scrolled": false
   },
   "outputs": [],
   "source": [
    "df.isnull()"
   ]
  },
  {
   "cell_type": "markdown",
   "metadata": {},
   "source": [
    "Suppose we wanted to count the number of missing values for each column in the dataset.\n",
    "\n",
    "One thing that is  nice about Python is that you can chain commands, which means that the output of one method can be the input into the next method.  This allows us to write intuitive and concise code.  Notice how we take the `sum()` of all of the null cases.\n",
    "We can chain the `.null()` and `.sum()` methods to see how many null values are added up in each column."
   ]
  },
  {
   "cell_type": "code",
   "execution_count": null,
   "metadata": {
    "ExecuteTime": {
     "end_time": "2020-03-31T04:06:35.162180Z",
     "start_time": "2020-03-31T04:06:35.157460Z"
    }
   },
   "outputs": [],
   "source": [
    "df.isnull().sum()"
   ]
  },
  {
   "cell_type": "markdown",
   "metadata": {},
   "source": [
    "You can use the boolean indexing once again to see the datapoints that have missing values. We chained the method `.any()` which will check if there are any True values for a given axis.  Axis=0 indicates rows, while Axis=1 indicates columns.  So here we are creating a boolean index for row where *any* column has a missing value."
   ]
  },
  {
   "cell_type": "code",
   "execution_count": null,
   "metadata": {
    "ExecuteTime": {
     "end_time": "2020-03-31T04:06:35.176895Z",
     "start_time": "2020-03-31T04:06:35.167557Z"
    }
   },
   "outputs": [],
   "source": [
    "df[df.isnull().any(axis=1)]"
   ]
  },
  {
   "cell_type": "markdown",
   "metadata": {
    "ExecuteTime": {
     "end_time": "2019-04-12T04:32:55.078779Z",
     "start_time": "2019-04-12T04:32:55.074997Z"
    }
   },
   "source": [
    "You may look at where the values are not null. Note that indexes 18, and 24 are missing. "
   ]
  },
  {
   "cell_type": "code",
   "execution_count": null,
   "metadata": {
    "ExecuteTime": {
     "end_time": "2020-03-31T04:06:35.195014Z",
     "start_time": "2020-03-31T04:06:35.180054Z"
    },
    "scrolled": false
   },
   "outputs": [],
   "source": [
    "df[~df.isnull().any(axis=1)]"
   ]
  },
  {
   "cell_type": "markdown",
   "metadata": {
    "ExecuteTime": {
     "end_time": "2017-01-16T18:36:16.705384",
     "start_time": "2017-01-16T18:36:16.701256"
    }
   },
   "source": [
    "There are different techniques for dealing with missing data.  An easy one is to simply remove rows that have any missing values using the `dropna()` method."
   ]
  },
  {
   "cell_type": "code",
   "execution_count": null,
   "metadata": {
    "ExecuteTime": {
     "end_time": "2020-03-31T04:06:35.201423Z",
     "start_time": "2020-03-31T04:06:35.196779Z"
    }
   },
   "outputs": [],
   "source": [
    "df.dropna(inplace=True)"
   ]
  },
  {
   "cell_type": "markdown",
   "metadata": {},
   "source": [
    "Now we can check to make sure the missing rows are removed.  Let's also check the new dimensions of the dataframe."
   ]
  },
  {
   "cell_type": "code",
   "execution_count": null,
   "metadata": {
    "ExecuteTime": {
     "end_time": "2020-03-31T04:06:35.208038Z",
     "start_time": "2020-03-31T04:06:35.202811Z"
    }
   },
   "outputs": [],
   "source": [
    "rows, cols = df.shape\n",
    "print(f'There are {rows} rows and {cols} columns in this data set') \n",
    "\n",
    "df.isnull().sum()"
   ]
  },
  {
   "cell_type": "markdown",
   "metadata": {},
   "source": [
    "### Create New Columns\n",
    "You can create new columns to fit your needs. \n",
    "For instance you can set initialize a new column with zeros. "
   ]
  },
  {
   "cell_type": "code",
   "execution_count": null,
   "metadata": {
    "ExecuteTime": {
     "end_time": "2020-03-31T04:06:35.212343Z",
     "start_time": "2020-03-31T04:06:35.209529Z"
    }
   },
   "outputs": [],
   "source": [
    "df['pubperyear'] = 0"
   ]
  },
  {
   "cell_type": "markdown",
   "metadata": {},
   "source": [
    "Here we can create a new column pubperyear, which is the ratio of the number of papers published per year"
   ]
  },
  {
   "cell_type": "code",
   "execution_count": null,
   "metadata": {
    "ExecuteTime": {
     "end_time": "2020-03-31T04:06:35.293475Z",
     "start_time": "2020-03-31T04:06:35.213833Z"
    }
   },
   "outputs": [],
   "source": [
    "df['pubperyear'] = df['publications']/df['years']"
   ]
  },
  {
   "cell_type": "markdown",
   "metadata": {},
   "source": [
    "## Indexing and slicing Data\n",
    "\n",
    "Indexing in Pandas can be tricky. There are many ways to index in pandas, for this tutorial we will focus on four: loc, iloc, boolean, and indexing numpy values. For a more in depth overview see Jake Vanderplas's tutorial](https://github.com/jakevdp/PythonDataScienceHandbook/blob/master/notebooks/03.02-Data-Indexing-and-Selection.ipynb), where he also covers more advanced topics, such as [hierarchical indexing](https://github.com/jakevdp/PythonDataScienceHandbook/blob/master/notebooks/03.05-Hierarchical-Indexing.ipynb). "
   ]
  },
  {
   "cell_type": "markdown",
   "metadata": {},
   "source": [
    "### Indexing with Keys\n",
    "First, we will cover indexing with keys using the `.loc` method. This method references the explicit index with a key name. It works for both index names and also column names. Note that often the keys for rows are integers by default.\n",
    "\n",
    "In this example, we will return rows 10-20 on the salary column."
   ]
  },
  {
   "cell_type": "code",
   "execution_count": null,
   "metadata": {
    "ExecuteTime": {
     "end_time": "2020-03-31T04:06:35.299033Z",
     "start_time": "2020-03-31T04:06:35.295104Z"
    }
   },
   "outputs": [],
   "source": [
    "df.loc[10:20, 'salary']"
   ]
  },
  {
   "cell_type": "markdown",
   "metadata": {},
   "source": [
    "You can return multiple columns using a list."
   ]
  },
  {
   "cell_type": "code",
   "execution_count": null,
   "metadata": {
    "ExecuteTime": {
     "end_time": "2020-03-31T04:06:35.307877Z",
     "start_time": "2020-03-31T04:06:35.300639Z"
    }
   },
   "outputs": [],
   "source": [
    "df.loc[:10, ['salary', 'publications']]"
   ]
  },
  {
   "cell_type": "markdown",
   "metadata": {},
   "source": [
    "### Indexing with Integers\n",
    "Next we wil try `.iloc`.  This method references the implicit python index using integer indexing (starting from 0, exclusive of last number).  You can think of this like row by column indexing using integers.\n",
    "\n",
    "For example, let's grab the first 3 rows and columns."
   ]
  },
  {
   "cell_type": "code",
   "execution_count": null,
   "metadata": {
    "ExecuteTime": {
     "end_time": "2020-03-31T04:06:35.316278Z",
     "start_time": "2020-03-31T04:06:35.309562Z"
    }
   },
   "outputs": [],
   "source": [
    "df.iloc[0:3, 0:3]"
   ]
  },
  {
   "cell_type": "markdown",
   "metadata": {},
   "source": [
    "Let's make a new data frame with just Males and another for just Females. Notice, how we added the `.reset_index(drop=True)` method?   This is because assigning a new dataframe based on indexing another dataframe will retain the *original* index.  We need to explicitly tell pandas to reset the index if we want it to start from zero."
   ]
  },
  {
   "cell_type": "code",
   "execution_count": null,
   "metadata": {
    "ExecuteTime": {
     "end_time": "2020-03-31T04:06:35.322758Z",
     "start_time": "2020-03-31T04:06:35.317890Z"
    }
   },
   "outputs": [],
   "source": [
    "male_df = df[df.gender == 0].reset_index(drop=True)\n",
    "female_df = df[df.gender == 1].reset_index(drop=True)"
   ]
  },
  {
   "cell_type": "markdown",
   "metadata": {},
   "source": [
    "### Indexing with booleans\n",
    "\n",
    "Boolean or logical indexing is useful if you need to sort the data based on some True or False value.  \n",
    "\n",
    "For instance, who are the people with salaries greater than 90K but lower than 100K ?"
   ]
  },
  {
   "cell_type": "code",
   "execution_count": null,
   "metadata": {
    "ExecuteTime": {
     "end_time": "2020-03-31T04:06:35.334142Z",
     "start_time": "2020-03-31T04:06:35.324474Z"
    }
   },
   "outputs": [],
   "source": [
    "df[ (df.salary > 90000) & (df.salary < 100000)]"
   ]
  },
  {
   "cell_type": "markdown",
   "metadata": {
    "ExecuteTime": {
     "end_time": "2020-03-30T15:29:35.327223Z",
     "start_time": "2020-03-30T15:29:35.323356Z"
    }
   },
   "source": [
    "This also works with the `.loc` method, which is what you need to do if you want to return specific columns"
   ]
  },
  {
   "cell_type": "code",
   "execution_count": null,
   "metadata": {
    "ExecuteTime": {
     "end_time": "2020-03-31T04:06:35.343918Z",
     "start_time": "2020-03-31T04:06:35.335868Z"
    }
   },
   "outputs": [],
   "source": [
    "df.loc[ (df.salary > 90000) & (df.salary < 100000), ['salary', 'gender']]"
   ]
  },
  {
   "cell_type": "markdown",
   "metadata": {},
   "source": [
    "### Numpy indexing"
   ]
  },
  {
   "cell_type": "markdown",
   "metadata": {},
   "source": [
    "Finally, you can also return a numpy matrix from a pandas data frame by accessing the `.values` property. This returns a numpy array that can be indexed using numpy integer indexing and slicing.\n",
    "\n",
    "As an example, let's grab the last 10 rows and the first 3 columns."
   ]
  },
  {
   "cell_type": "code",
   "execution_count": null,
   "metadata": {
    "ExecuteTime": {
     "end_time": "2020-03-31T04:06:35.349196Z",
     "start_time": "2020-03-31T04:06:35.345467Z"
    }
   },
   "outputs": [],
   "source": [
    "df.values[-10:, :3]"
   ]
  },
  {
   "cell_type": "markdown",
   "metadata": {},
   "source": [
    "## Renaming\n",
    "Part of cleaning up the data is renaming with more sensible names. This is easy to do with Pandas.\n",
    "\n",
    "### Renaming Columns\n",
    "We can rename columns with the `.rename` method by passing in a dictionary using the `{'Old Name':'New Name'}`. We either need to assigne the result to a new variable or add `inplace=True`."
   ]
  },
  {
   "cell_type": "code",
   "execution_count": null,
   "metadata": {
    "ExecuteTime": {
     "end_time": "2020-03-31T04:06:35.356020Z",
     "start_time": "2020-03-31T04:06:35.350659Z"
    }
   },
   "outputs": [],
   "source": [
    "df.rename({'departm':'department','pubperyear':'pub_per_year'}, axis=1, inplace=True)"
   ]
  },
  {
   "cell_type": "markdown",
   "metadata": {},
   "source": [
    "### Renaming Rows\n",
    "Often we may want to change the coding scheme for a variable. For example, it is hard to remember what zeros and ones mean in the gender variable. We can make this easier by changing these with a dictionary `{0:'male', 1:'female'}` with the `replace` method. We can do this `inplace=True` or we can assign it to a new variable. As an example, we will assign this to a new variable to also retain the original lablels."
   ]
  },
  {
   "cell_type": "code",
   "execution_count": null,
   "metadata": {
    "ExecuteTime": {
     "end_time": "2020-03-31T04:06:35.368702Z",
     "start_time": "2020-03-31T04:06:35.357544Z"
    }
   },
   "outputs": [],
   "source": [
    "df['gender_name'] = df['gender'].replace({0:'male', 1:'female'})\n",
    "\n",
    "df.head()"
   ]
  },
  {
   "cell_type": "markdown",
   "metadata": {},
   "source": [
    "## Operations\n",
    "One of the really fun things about pandas once you get the hang of it is how easy it is to perform operations on the data. It is trivial to compute simple summaries of the data. We can also leverage the object-oriented nature of a pandas object, we can chain together multiple commands.\n",
    "\n",
    "For example, let's grab the mean of a few columns."
   ]
  },
  {
   "cell_type": "code",
   "execution_count": null,
   "metadata": {
    "ExecuteTime": {
     "end_time": "2020-03-31T04:06:35.375340Z",
     "start_time": "2020-03-31T04:06:35.370201Z"
    }
   },
   "outputs": [],
   "source": [
    "df.loc[:,['years', 'age', 'publications']].mean()"
   ]
  },
  {
   "cell_type": "markdown",
   "metadata": {},
   "source": [
    "We can also turn these values into a plot with the `plot` method, which we will cover in more detail in future tutorials."
   ]
  },
  {
   "cell_type": "code",
   "execution_count": null,
   "metadata": {
    "ExecuteTime": {
     "end_time": "2020-03-31T04:06:35.654717Z",
     "start_time": "2020-03-31T04:06:35.376621Z"
    }
   },
   "outputs": [],
   "source": [
    "%matplotlib inline\n",
    "\n",
    "df.loc[:,['years', 'age', 'publications']].mean().plot(kind='bar')"
   ]
  },
  {
   "cell_type": "markdown",
   "metadata": {},
   "source": [
    "Perhaps we want to see if there are any correlations in our dataset. We can do this with the `.corr` method."
   ]
  },
  {
   "cell_type": "code",
   "execution_count": null,
   "metadata": {
    "ExecuteTime": {
     "end_time": "2020-03-31T04:06:35.665207Z",
     "start_time": "2020-03-31T04:06:35.656326Z"
    }
   },
   "outputs": [],
   "source": [
    "df.corr()"
   ]
  },
  {
   "cell_type": "markdown",
   "metadata": {},
   "source": [
    "## Merging Data\n",
    "Another common data manipulation goal is to merge datasets. There are multiple ways to do this in pandas, we will cover concatenation, append, and merge."
   ]
  },
  {
   "cell_type": "markdown",
   "metadata": {},
   "source": [
    "### Concatenation\n",
    "Concatenation describes the process of *stacking* dataframes together. The main thing to consider is to make sure that the shapes of the two dataframes are the same as well as the index labels. For example, if we wanted to vertically stack two dataframe, they need to have the same column names.\n",
    "\n",
    "Remember that we previously created two separate dataframes for males and females?  Let's put them back together using the `pd.concat` method. Note how the index of this output retains the old index."
   ]
  },
  {
   "cell_type": "code",
   "execution_count": null,
   "metadata": {
    "ExecuteTime": {
     "end_time": "2020-03-31T04:06:35.671004Z",
     "start_time": "2020-03-31T04:06:35.666780Z"
    },
    "scrolled": true
   },
   "outputs": [],
   "source": [
    "combined_data = pd.concat([female_df, male_df], axis = 0)"
   ]
  },
  {
   "cell_type": "markdown",
   "metadata": {
    "ExecuteTime": {
     "end_time": "2020-03-30T15:56:06.841587Z",
     "start_time": "2020-03-30T15:56:06.838466Z"
    }
   },
   "source": [
    "We can reset the index using the `reset_index` method."
   ]
  },
  {
   "cell_type": "code",
   "execution_count": null,
   "metadata": {
    "ExecuteTime": {
     "end_time": "2020-03-31T04:06:35.689990Z",
     "start_time": "2020-03-31T04:06:35.672497Z"
    }
   },
   "outputs": [],
   "source": [
    "pd.concat([male_df, female_df], axis = 0).reset_index(drop=True)"
   ]
  },
  {
   "cell_type": "markdown",
   "metadata": {},
   "source": [
    "We can also concatenate columns in addition to rows. Make sure that the number of rows are the same in each dataframe. For this example, we will just create two new data frames with a subset of the columns and then combine them again."
   ]
  },
  {
   "cell_type": "code",
   "execution_count": null,
   "metadata": {
    "ExecuteTime": {
     "end_time": "2020-03-31T04:06:35.701410Z",
     "start_time": "2020-03-31T04:06:35.691598Z"
    }
   },
   "outputs": [],
   "source": [
    "df1 = df[['salary', 'gender']]\n",
    "df2 = df[['age', 'publications']]\n",
    "df3 = pd.concat([df1, df2], axis=1)\n",
    "df3.head()"
   ]
  },
  {
   "cell_type": "markdown",
   "metadata": {},
   "source": [
    "### Append\n",
    "We can also combine datasets by appending new data to the end of a dataframe. \n",
    "\n",
    "Suppose we want to append a new data entry of an additional participant onto the `df3` dataframe. Notice that we need to specify to `ignore_index=True` and also that we need to assign the new dataframe back to a variable. This operation is not done in place.\n",
    "\n",
    "For more information about concatenation and appending see Jake Vanderplas's [tutorial](https://github.com/jakevdp/PythonDataScienceHandbook/blob/master/notebooks/03.06-Concat-And-Append.ipynb)."
   ]
  },
  {
   "cell_type": "code",
   "execution_count": null,
   "metadata": {
    "ExecuteTime": {
     "end_time": "2020-03-31T04:06:35.713558Z",
     "start_time": "2020-03-31T04:06:35.703003Z"
    }
   },
   "outputs": [],
   "source": [
    "new_data = pd.Series({'salary':100000, 'gender':1, 'age':38, 'publications':46})\n",
    "df3 = df3.append(new_data, ignore_index=True)\n",
    "df3.tail()"
   ]
  },
  {
   "cell_type": "markdown",
   "metadata": {},
   "source": [
    "### Merge\n",
    "The most powerful method of merging data is using the `pd.merge` method. This allows you to merge datasets of different shapes and sizes on specific variables that match. This is very common when you need to merge multiple sql tables together for example. \n",
    "\n",
    "In this example, we are creating two separate data frames that have different states and columns and will merge on the `State` column.\n",
    "\n",
    "First, we will only retain rows where there is a match across dataframes, using `how=inner`. This is equivalent to an 'and' join in sql."
   ]
  },
  {
   "cell_type": "code",
   "execution_count": null,
   "metadata": {
    "ExecuteTime": {
     "end_time": "2020-03-31T04:06:35.726003Z",
     "start_time": "2020-03-31T04:06:35.714878Z"
    }
   },
   "outputs": [],
   "source": [
    "df1 = pd.DataFrame({'State':['California', 'Colorado', 'New Hampshire'], \n",
    "                    'Capital':['Sacremento', 'Denver', 'Concord']})\n",
    "df2 = pd.DataFrame({'State':['California', 'New Hampshire', 'New York'], \n",
    "                    'Population':['39512223', '1359711', '19453561']})\n",
    "\n",
    "df3 = pd.merge(left=df1, right=df2, on='State', how='inner')\n",
    "df3"
   ]
  },
  {
   "cell_type": "markdown",
   "metadata": {},
   "source": [
    "Notice how there are only two rows in the merged dataframe.\n",
    "\n",
    "We can also be more inclusive and match on `State` column, but retain all rows. This is equivalent to an 'or' join."
   ]
  },
  {
   "cell_type": "code",
   "execution_count": null,
   "metadata": {
    "ExecuteTime": {
     "end_time": "2020-03-31T04:06:35.736745Z",
     "start_time": "2020-03-31T04:06:35.727441Z"
    }
   },
   "outputs": [],
   "source": [
    "df3 = pd.merge(left=df1, right=df2, on='State', how='outer')\n",
    "df3"
   ]
  },
  {
   "cell_type": "markdown",
   "metadata": {},
   "source": [
    "This is a very handy way to merge data when you have lots of files with missing data.  See Jake Vanderplas's [tutorial](https://github.com/jakevdp/PythonDataScienceHandbook/blob/master/notebooks/03.07-Merge-and-Join.ipynb) for a more in depth overview."
   ]
  },
  {
   "cell_type": "markdown",
   "metadata": {},
   "source": [
    "## Grouping\n",
    "We've seen above that it is very easy to summarize data over columns using the builtin functions such as `pd.mean()`. Sometimes we are interested in summarizing data over different groups of rows. For example, what is the mean of participants in Condition A compared to Condition B?\n",
    "\n",
    "This is suprisingly easy to compute in pandas using the `groupby` operator, where we aggregate data using a specific operation over different labels.\n",
    "\n",
    "One useful way to conceptualize this is using the **Split, Apply, Combine** operation (similar to map-reduce).\n",
    "\n",
    "![](../images/pandas/split-apply-combine.png)\n",
    "\n",
    "This figure is taken from Jake Vanderplas's tutorial and highlights how input data can be *split* on some key and then an operation such as sum can be *applied* separately to each split. Finally, the results of the applied function for each key can be *combined* into a new data frame."
   ]
  },
  {
   "cell_type": "markdown",
   "metadata": {},
   "source": [
    "### Groupby\n",
    "In this example, we will use the `groupby` operator to split the data based on gender labels and separately calculate the mean for each group."
   ]
  },
  {
   "cell_type": "code",
   "execution_count": null,
   "metadata": {
    "ExecuteTime": {
     "end_time": "2020-03-31T04:06:35.748994Z",
     "start_time": "2020-03-31T04:06:35.738332Z"
    }
   },
   "outputs": [],
   "source": [
    "df.groupby('gender_name').mean()"
   ]
  },
  {
   "cell_type": "markdown",
   "metadata": {},
   "source": [
    "Other default aggregation methods include `.count()`, `.mean()`, `.median()`, `.min()`, `.max()`, `.std()`, `.var()`, and `.sum()`"
   ]
  },
  {
   "cell_type": "markdown",
   "metadata": {},
   "source": [
    "### Transform\n",
    "While the split, apply, combine operation that we just demonstrated is extremely usefuly to quickly summarize data based on a grouping key, the resulting data frame is compressed to one row per grouping label.\n",
    "\n",
    "Sometimes, we would like to perform an operation over groups, but retain the original data shape. One common example is standardizing data within a subject or grouping variable. Normally, you might think to loop over subject ids and separately z-score or center a variable and then recombine the subject data using a vertical concatenation operation.\n",
    "\n",
    "The `transform` method in pandas can make this much easier and faster!\n",
    "\n",
    "Suppose we want to compute the standardized salary separately for each department. We can standardize using a z-score which requires subtracting the departmental mean from each professor's salary in that department, and then dividing it by the departmental standard deviation. \n",
    "\n",
    "We can do this by using the `groupby(key)` method chained with the `.transform(function)` method. It will group the dataframe by the key column, perform the \"function\" transformation of the data and return data in same format. We can then assign the results to a new column in the dataframe."
   ]
  },
  {
   "cell_type": "code",
   "execution_count": null,
   "metadata": {
    "ExecuteTime": {
     "end_time": "2020-03-31T04:06:35.809900Z",
     "start_time": "2020-03-31T04:06:35.750693Z"
    }
   },
   "outputs": [],
   "source": [
    "df['salary_dept_z'] = (df['salary'] - df.groupby('department').transform('mean')['salary'])/df.groupby('department').transform('std')['salary']\n",
    "df.head()\n"
   ]
  },
  {
   "cell_type": "markdown",
   "metadata": {
    "ExecuteTime": {
     "end_time": "2020-03-31T02:37:08.134136Z",
     "start_time": "2020-03-31T02:37:08.121669Z"
    }
   },
   "source": [
    "This worked well, but is also pretty verbose. We can simplify the syntax a little bit more using a `lambda` function, where we can define the zscore function."
   ]
  },
  {
   "cell_type": "code",
   "execution_count": null,
   "metadata": {
    "ExecuteTime": {
     "end_time": "2020-03-31T04:06:35.829918Z",
     "start_time": "2020-03-31T04:06:35.811444Z"
    }
   },
   "outputs": [],
   "source": [
    "calc_zscore = lambda x: (x - x.mean()) / x.std()\n",
    "\n",
    "df['salary_dept_z'] = df['salary'].groupby(df['department']).transform(calc_zscore)\n",
    "\n",
    "df.head()"
   ]
  },
  {
   "cell_type": "markdown",
   "metadata": {},
   "source": [
    "For a more in depth overview of data aggregation and grouping, check out Jake Vanderplas's [tutorial](http://nbviewer.jupyter.org/github/jakevdp/PythonDataScienceHandbook/blob/master/notebooks/03.08-Aggregation-and-Grouping.ipynb)"
   ]
  },
  {
   "cell_type": "markdown",
   "metadata": {},
   "source": [
    "## Reshaping Data\n",
    "The last topic we will cover in this tutorial is reshaping data. Data is often in the form of observations by features, in which there is a single row for each independent observation of data and a separate column for each feature of the data. This is commonly referred to as as the *wide* format. However, when running regression or plotting in libraries such as seaborn, we often want our data in the *long* format, in which each grouping variable is specified in a separate column.\n",
    "\n",
    "In this section we cover how to go from wide to long using the `melt` operation and from long to wide using the `pivot` function."
   ]
  },
  {
   "cell_type": "markdown",
   "metadata": {},
   "source": [
    "### Melt\n",
    "To `melt` a dataframe into the long format, we need to specify which variables are the `id_vars`, which ones should be combined into a `value_var`, and finally, what we should label the column name for the `value_var`, and also for the `var_name`. We will call the values 'Ratings' and variables 'Condition'.\n",
    "\n",
    "First, we need to create a dataset to play with."
   ]
  },
  {
   "cell_type": "code",
   "execution_count": null,
   "metadata": {
    "ExecuteTime": {
     "end_time": "2020-03-31T04:06:35.839588Z",
     "start_time": "2020-03-31T04:06:35.831470Z"
    }
   },
   "outputs": [],
   "source": [
    "data = pd.DataFrame(np.vstack([np.arange(1,6), np.random.random((3, 5))]).T, columns=['ID','A', 'B', 'C'])\n",
    "data"
   ]
  },
  {
   "cell_type": "markdown",
   "metadata": {},
   "source": [
    "Now, let's melt the dataframe into the long format."
   ]
  },
  {
   "cell_type": "code",
   "execution_count": null,
   "metadata": {
    "ExecuteTime": {
     "end_time": "2020-03-31T04:06:35.852174Z",
     "start_time": "2020-03-31T04:06:35.841058Z"
    }
   },
   "outputs": [],
   "source": [
    "df_long = pd.melt(data,id_vars='ID', value_vars=['A', 'B', 'C'], var_name='Condition', value_name='Rating')\n",
    "df_long\n"
   ]
  },
  {
   "cell_type": "markdown",
   "metadata": {},
   "source": [
    "Notice how the id variable is repeated for each condition?"
   ]
  },
  {
   "cell_type": "markdown",
   "metadata": {},
   "source": [
    "### Pivot\n",
    "We can also go back to the wide data format from a long dataframe using `pivot`. We just need to specify the variable containing the labels which will become the `columns` and the `values` column that will be broken into separate columns."
   ]
  },
  {
   "cell_type": "code",
   "execution_count": null,
   "metadata": {
    "ExecuteTime": {
     "end_time": "2020-03-31T04:06:35.865063Z",
     "start_time": "2020-03-31T04:06:35.854444Z"
    }
   },
   "outputs": [],
   "source": [
    "df_wide = df_long.pivot(index='ID', columns='Condition', values='Rating')\n",
    "df_wide"
   ]
  },
  {
   "cell_type": "markdown",
   "metadata": {
    "collapsed": true
   },
   "source": [
    "## Exercises ( Homework)\n",
    "The following exercises uses the dataset \"salary_exercise.csv\" adapted from material available [here](http://data.princeton.edu/wws509/datasets/#salary)\n",
    "\n",
    "These are the salary data used in Weisberg's book, consisting of observations on six variables for 52 tenure-track professors in a small college. The variables are:\n",
    "\n",
    " - sx = Sex, coded 1 for female and 0 for male\n",
    " - rk = Rank, coded\n",
    " - 1 for assistant professor,\n",
    " - 2 for associate professor, and\n",
    " - 3 for full professor\n",
    " - yr = Number of years in current rank\n",
    " - dg = Highest degree, coded 1 if doctorate, 0 if masters\n",
    " - yd = Number of years since highest degree was earned\n",
    " - sl = Academic year salary, in dollars.\n",
    "\n",
    "Reference: S. Weisberg (1985). Applied Linear Regression, Second Edition. New York: John Wiley and Sons. Page 194.\n",
    "\n",
    "### Exercise 1\n",
    "\n",
    "Read the salary_exercise.csv into a dataframe, and change the column names to a more readable format such as sex, rank, yearsinrank, degree, yearssinceHD, and salary.   \n",
    "\n",
    "Clean the data by excluding rows with any missing value. \n",
    "\n",
    "What are the overall mean, standard deviation, min, and maximum of professors' salary? "
   ]
  },
  {
   "cell_type": "code",
   "execution_count": null,
   "metadata": {
    "ExecuteTime": {
     "end_time": "2020-03-31T04:04:56.411197Z",
     "start_time": "2020-03-31T04:04:55.140Z"
    }
   },
   "outputs": [],
   "source": [
    "salary = pd.read_csv('/home/lorenzo/PycharmProjects/predictive_statistics/naturalistic_data_analysis/data/salary_exercise.csv')\n",
    "\n",
    "salary = salary.dropna()\n",
    "\n",
    "mean_sal = salary['sl'].mean(); print(mean_sal)\n",
    "min = salary['sl'].min(); max = salary['sl'].max()\n",
    "stdevsal = salary['sl'].std(); print(stdevsal)"
   ]
  },
  {
   "cell_type": "markdown",
   "metadata": {},
   "source": [
    "### Exercise 2\n",
    "Create two separate dataframes based on the type of degree. Now calculate the mean salary of the 5 oldest professors of each degree type."
   ]
  },
  {
   "cell_type": "code",
   "execution_count": 111,
   "metadata": {
    "ExecuteTime": {
     "end_time": "2020-03-31T04:02:23.981203Z",
     "start_time": "2020-03-31T04:02:23.966211Z"
    }
   },
   "outputs": [],
   "source": [
    "\n",
    "masters = salary[salary.dg == 'masters'].reset_index(drop=True)\n",
    "doctorate = salary[salary.dg == 'doctorate'].reset_index(drop=True)\n",
    "\n",
    "doctorate = doctorate.sort_values(['yd']).reset_index(drop=True)\n",
    "masters = masters.sort_values(['yd']).reset_index(drop=True)\n"
   ]
  },
  {
   "cell_type": "code",
   "execution_count": 117,
   "metadata": {},
   "outputs": [
    {
     "name": "stdout",
     "output_type": "stream",
     "text": [
      "31023.6\n"
     ]
    },
    {
     "data": {
      "text/html": [
       "<div>\n",
       "<style scoped>\n",
       "    .dataframe tbody tr th:only-of-type {\n",
       "        vertical-align: middle;\n",
       "    }\n",
       "\n",
       "    .dataframe tbody tr th {\n",
       "        vertical-align: top;\n",
       "    }\n",
       "\n",
       "    .dataframe thead th {\n",
       "        text-align: right;\n",
       "    }\n",
       "</style>\n",
       "<table border=\"1\" class=\"dataframe\">\n",
       "  <thead>\n",
       "    <tr style=\"text-align: right;\">\n",
       "      <th></th>\n",
       "      <th>sx</th>\n",
       "      <th>rk</th>\n",
       "      <th>yr</th>\n",
       "      <th>dg</th>\n",
       "      <th>yd</th>\n",
       "      <th>sl</th>\n",
       "    </tr>\n",
       "  </thead>\n",
       "  <tbody>\n",
       "    <tr>\n",
       "      <th>0</th>\n",
       "      <td>male</td>\n",
       "      <td>full</td>\n",
       "      <td>25</td>\n",
       "      <td>doctorate</td>\n",
       "      <td>35</td>\n",
       "      <td>36350.0</td>\n",
       "    </tr>\n",
       "    <tr>\n",
       "      <th>1</th>\n",
       "      <td>male</td>\n",
       "      <td>full</td>\n",
       "      <td>13</td>\n",
       "      <td>doctorate</td>\n",
       "      <td>22</td>\n",
       "      <td>35350.0</td>\n",
       "    </tr>\n",
       "    <tr>\n",
       "      <th>2</th>\n",
       "      <td>male</td>\n",
       "      <td>full</td>\n",
       "      <td>10</td>\n",
       "      <td>doctorate</td>\n",
       "      <td>23</td>\n",
       "      <td>28200.0</td>\n",
       "    </tr>\n",
       "    <tr>\n",
       "      <th>3</th>\n",
       "      <td>female</td>\n",
       "      <td>full</td>\n",
       "      <td>7</td>\n",
       "      <td>doctorate</td>\n",
       "      <td>27</td>\n",
       "      <td>26775.0</td>\n",
       "    </tr>\n",
       "    <tr>\n",
       "      <th>4</th>\n",
       "      <td>male</td>\n",
       "      <td>full</td>\n",
       "      <td>19</td>\n",
       "      <td>masters</td>\n",
       "      <td>30</td>\n",
       "      <td>33696.0</td>\n",
       "    </tr>\n",
       "  </tbody>\n",
       "</table>\n",
       "</div>"
      ],
      "text/plain": [
       "       sx    rk  yr         dg  yd       sl\n",
       "0    male  full  25  doctorate  35  36350.0\n",
       "1    male  full  13  doctorate  22  35350.0\n",
       "2    male  full  10  doctorate  23  28200.0\n",
       "3  female  full   7  doctorate  27  26775.0\n",
       "4    male  full  19    masters  30  33696.0"
      ]
     },
     "execution_count": 117,
     "metadata": {},
     "output_type": "execute_result"
    }
   ],
   "source": [
    "\n",
    "print(doctorate.values[-5:, -1].mean())\n",
    "masters.values[-5:, -1].mean()\n",
    "salary.head()"
   ]
  },
  {
   "cell_type": "markdown",
   "metadata": {},
   "source": [
    "### Exercise 3\n",
    "What is the correlation between the standardized salary *across* all ranks and the standardized salary *within* ranks?"
   ]
  },
  {
   "cell_type": "code",
   "execution_count": 123,
   "metadata": {},
   "outputs": [
    {
     "data": {
      "text/html": [
       "<div>\n",
       "<style scoped>\n",
       "    .dataframe tbody tr th:only-of-type {\n",
       "        vertical-align: middle;\n",
       "    }\n",
       "\n",
       "    .dataframe tbody tr th {\n",
       "        vertical-align: top;\n",
       "    }\n",
       "\n",
       "    .dataframe thead th {\n",
       "        text-align: right;\n",
       "    }\n",
       "</style>\n",
       "<table border=\"1\" class=\"dataframe\">\n",
       "  <thead>\n",
       "    <tr style=\"text-align: right;\">\n",
       "      <th></th>\n",
       "      <th>z_salary</th>\n",
       "      <th>rank_z</th>\n",
       "    </tr>\n",
       "  </thead>\n",
       "  <tbody>\n",
       "    <tr>\n",
       "      <th>z_salary</th>\n",
       "      <td>1.000000</td>\n",
       "      <td>0.064982</td>\n",
       "    </tr>\n",
       "    <tr>\n",
       "      <th>rank_z</th>\n",
       "      <td>0.064982</td>\n",
       "      <td>1.000000</td>\n",
       "    </tr>\n",
       "  </tbody>\n",
       "</table>\n",
       "</div>"
      ],
      "text/plain": [
       "          z_salary    rank_z\n",
       "z_salary  1.000000  0.064982\n",
       "rank_z    0.064982  1.000000"
      ]
     },
     "execution_count": 123,
     "metadata": {},
     "output_type": "execute_result"
    }
   ],
   "source": [
    "salary.loc[:, ['z_salary', 'rank_z']].corr()"
   ]
  },
  {
   "cell_type": "code",
   "execution_count": 122,
   "metadata": {},
   "outputs": [
    {
     "data": {
      "text/html": [
       "<div>\n",
       "<style scoped>\n",
       "    .dataframe tbody tr th:only-of-type {\n",
       "        vertical-align: middle;\n",
       "    }\n",
       "\n",
       "    .dataframe tbody tr th {\n",
       "        vertical-align: top;\n",
       "    }\n",
       "\n",
       "    .dataframe thead th {\n",
       "        text-align: right;\n",
       "    }\n",
       "</style>\n",
       "<table border=\"1\" class=\"dataframe\">\n",
       "  <thead>\n",
       "    <tr style=\"text-align: right;\">\n",
       "      <th></th>\n",
       "      <th>sx</th>\n",
       "      <th>rk</th>\n",
       "      <th>yr</th>\n",
       "      <th>dg</th>\n",
       "      <th>yd</th>\n",
       "      <th>sl</th>\n",
       "      <th>z_salary</th>\n",
       "      <th>rank_z</th>\n",
       "    </tr>\n",
       "  </thead>\n",
       "  <tbody>\n",
       "    <tr>\n",
       "      <th>0</th>\n",
       "      <td>male</td>\n",
       "      <td>full</td>\n",
       "      <td>25</td>\n",
       "      <td>doctorate</td>\n",
       "      <td>35</td>\n",
       "      <td>36350.0</td>\n",
       "      <td>2.061883</td>\n",
       "      <td>1.506601</td>\n",
       "    </tr>\n",
       "    <tr>\n",
       "      <th>1</th>\n",
       "      <td>male</td>\n",
       "      <td>full</td>\n",
       "      <td>13</td>\n",
       "      <td>doctorate</td>\n",
       "      <td>22</td>\n",
       "      <td>35350.0</td>\n",
       "      <td>1.896335</td>\n",
       "      <td>0.821658</td>\n",
       "    </tr>\n",
       "    <tr>\n",
       "      <th>2</th>\n",
       "      <td>male</td>\n",
       "      <td>full</td>\n",
       "      <td>10</td>\n",
       "      <td>doctorate</td>\n",
       "      <td>23</td>\n",
       "      <td>28200.0</td>\n",
       "      <td>0.712669</td>\n",
       "      <td>0.432602</td>\n",
       "    </tr>\n",
       "    <tr>\n",
       "      <th>3</th>\n",
       "      <td>female</td>\n",
       "      <td>full</td>\n",
       "      <td>7</td>\n",
       "      <td>doctorate</td>\n",
       "      <td>27</td>\n",
       "      <td>26775.0</td>\n",
       "      <td>0.476764</td>\n",
       "      <td>0.326197</td>\n",
       "    </tr>\n",
       "    <tr>\n",
       "      <th>4</th>\n",
       "      <td>male</td>\n",
       "      <td>full</td>\n",
       "      <td>19</td>\n",
       "      <td>masters</td>\n",
       "      <td>30</td>\n",
       "      <td>33696.0</td>\n",
       "      <td>1.622519</td>\n",
       "      <td>0.036442</td>\n",
       "    </tr>\n",
       "    <tr>\n",
       "      <th>5</th>\n",
       "      <td>male</td>\n",
       "      <td>full</td>\n",
       "      <td>16</td>\n",
       "      <td>doctorate</td>\n",
       "      <td>21</td>\n",
       "      <td>28516.0</td>\n",
       "      <td>0.764982</td>\n",
       "      <td>-0.126045</td>\n",
       "    </tr>\n",
       "    <tr>\n",
       "      <th>6</th>\n",
       "      <td>female</td>\n",
       "      <td>full</td>\n",
       "      <td>0</td>\n",
       "      <td>masters</td>\n",
       "      <td>32</td>\n",
       "      <td>24900.0</td>\n",
       "      <td>0.166362</td>\n",
       "      <td>-0.132401</td>\n",
       "    </tr>\n",
       "    <tr>\n",
       "      <th>7</th>\n",
       "      <td>male</td>\n",
       "      <td>full</td>\n",
       "      <td>16</td>\n",
       "      <td>doctorate</td>\n",
       "      <td>18</td>\n",
       "      <td>31909.0</td>\n",
       "      <td>1.326686</td>\n",
       "      <td>-0.507923</td>\n",
       "    </tr>\n",
       "    <tr>\n",
       "      <th>8</th>\n",
       "      <td>male</td>\n",
       "      <td>full</td>\n",
       "      <td>13</td>\n",
       "      <td>masters</td>\n",
       "      <td>30</td>\n",
       "      <td>31850.0</td>\n",
       "      <td>1.316918</td>\n",
       "      <td>-0.566547</td>\n",
       "    </tr>\n",
       "    <tr>\n",
       "      <th>9</th>\n",
       "      <td>male</td>\n",
       "      <td>full</td>\n",
       "      <td>13</td>\n",
       "      <td>masters</td>\n",
       "      <td>31</td>\n",
       "      <td>32850.0</td>\n",
       "      <td>1.482466</td>\n",
       "      <td>-0.586437</td>\n",
       "    </tr>\n",
       "    <tr>\n",
       "      <th>10</th>\n",
       "      <td>male</td>\n",
       "      <td>full</td>\n",
       "      <td>12</td>\n",
       "      <td>doctorate</td>\n",
       "      <td>22</td>\n",
       "      <td>27025.0</td>\n",
       "      <td>0.518151</td>\n",
       "      <td>-0.751093</td>\n",
       "    </tr>\n",
       "    <tr>\n",
       "      <th>11</th>\n",
       "      <td>male</td>\n",
       "      <td>associate</td>\n",
       "      <td>15</td>\n",
       "      <td>doctorate</td>\n",
       "      <td>19</td>\n",
       "      <td>24750.0</td>\n",
       "      <td>0.141530</td>\n",
       "      <td>-1.421057</td>\n",
       "    </tr>\n",
       "    <tr>\n",
       "      <th>12</th>\n",
       "      <td>male</td>\n",
       "      <td>full</td>\n",
       "      <td>9</td>\n",
       "      <td>doctorate</td>\n",
       "      <td>17</td>\n",
       "      <td>28200.0</td>\n",
       "      <td>0.712669</td>\n",
       "      <td>-0.887408</td>\n",
       "    </tr>\n",
       "    <tr>\n",
       "      <th>14</th>\n",
       "      <td>male</td>\n",
       "      <td>full</td>\n",
       "      <td>9</td>\n",
       "      <td>doctorate</td>\n",
       "      <td>24</td>\n",
       "      <td>25748.0</td>\n",
       "      <td>0.306746</td>\n",
       "      <td>2.354928</td>\n",
       "    </tr>\n",
       "    <tr>\n",
       "      <th>15</th>\n",
       "      <td>male</td>\n",
       "      <td>full</td>\n",
       "      <td>7</td>\n",
       "      <td>doctorate</td>\n",
       "      <td>15</td>\n",
       "      <td>29342.0</td>\n",
       "      <td>0.901725</td>\n",
       "      <td>1.219389</td>\n",
       "    </tr>\n",
       "    <tr>\n",
       "      <th>16</th>\n",
       "      <td>male</td>\n",
       "      <td>full</td>\n",
       "      <td>13</td>\n",
       "      <td>doctorate</td>\n",
       "      <td>20</td>\n",
       "      <td>31114.0</td>\n",
       "      <td>1.195075</td>\n",
       "      <td>0.759296</td>\n",
       "    </tr>\n",
       "    <tr>\n",
       "      <th>17</th>\n",
       "      <td>male</td>\n",
       "      <td>associate</td>\n",
       "      <td>11</td>\n",
       "      <td>masters</td>\n",
       "      <td>14</td>\n",
       "      <td>24742.0</td>\n",
       "      <td>0.140205</td>\n",
       "      <td>-0.261739</td>\n",
       "    </tr>\n",
       "    <tr>\n",
       "      <th>18</th>\n",
       "      <td>male</td>\n",
       "      <td>associate</td>\n",
       "      <td>10</td>\n",
       "      <td>masters</td>\n",
       "      <td>15</td>\n",
       "      <td>22906.0</td>\n",
       "      <td>-0.163740</td>\n",
       "      <td>NaN</td>\n",
       "    </tr>\n",
       "    <tr>\n",
       "      <th>19</th>\n",
       "      <td>male</td>\n",
       "      <td>full</td>\n",
       "      <td>6</td>\n",
       "      <td>masters</td>\n",
       "      <td>21</td>\n",
       "      <td>24450.0</td>\n",
       "      <td>0.091865</td>\n",
       "      <td>-0.263931</td>\n",
       "    </tr>\n",
       "    <tr>\n",
       "      <th>20</th>\n",
       "      <td>male</td>\n",
       "      <td>assistant</td>\n",
       "      <td>16</td>\n",
       "      <td>masters</td>\n",
       "      <td>23</td>\n",
       "      <td>19175.0</td>\n",
       "      <td>-0.781399</td>\n",
       "      <td>-0.777212</td>\n",
       "    </tr>\n",
       "    <tr>\n",
       "      <th>21</th>\n",
       "      <td>male</td>\n",
       "      <td>associate</td>\n",
       "      <td>8</td>\n",
       "      <td>masters</td>\n",
       "      <td>31</td>\n",
       "      <td>20525.0</td>\n",
       "      <td>-0.557909</td>\n",
       "      <td>-1.175124</td>\n",
       "    </tr>\n",
       "    <tr>\n",
       "      <th>22</th>\n",
       "      <td>male</td>\n",
       "      <td>full</td>\n",
       "      <td>7</td>\n",
       "      <td>doctorate</td>\n",
       "      <td>13</td>\n",
       "      <td>27959.0</td>\n",
       "      <td>0.672772</td>\n",
       "      <td>-1.429381</td>\n",
       "    </tr>\n",
       "    <tr>\n",
       "      <th>23</th>\n",
       "      <td>female</td>\n",
       "      <td>full</td>\n",
       "      <td>8</td>\n",
       "      <td>doctorate</td>\n",
       "      <td>24</td>\n",
       "      <td>38045.0</td>\n",
       "      <td>2.342486</td>\n",
       "      <td>-1.603906</td>\n",
       "    </tr>\n",
       "    <tr>\n",
       "      <th>25</th>\n",
       "      <td>male</td>\n",
       "      <td>full</td>\n",
       "      <td>5</td>\n",
       "      <td>doctorate</td>\n",
       "      <td>18</td>\n",
       "      <td>25400.0</td>\n",
       "      <td>0.249136</td>\n",
       "      <td>0.397757</td>\n",
       "    </tr>\n",
       "    <tr>\n",
       "      <th>26</th>\n",
       "      <td>male</td>\n",
       "      <td>associate</td>\n",
       "      <td>11</td>\n",
       "      <td>doctorate</td>\n",
       "      <td>14</td>\n",
       "      <td>24800.0</td>\n",
       "      <td>0.149807</td>\n",
       "      <td>-0.828824</td>\n",
       "    </tr>\n",
       "    <tr>\n",
       "      <th>27</th>\n",
       "      <td>female</td>\n",
       "      <td>full</td>\n",
       "      <td>5</td>\n",
       "      <td>doctorate</td>\n",
       "      <td>16</td>\n",
       "      <td>25500.0</td>\n",
       "      <td>0.265691</td>\n",
       "      <td>-0.999796</td>\n",
       "    </tr>\n",
       "    <tr>\n",
       "      <th>28</th>\n",
       "      <td>male</td>\n",
       "      <td>associate</td>\n",
       "      <td>3</td>\n",
       "      <td>masters</td>\n",
       "      <td>7</td>\n",
       "      <td>26182.0</td>\n",
       "      <td>0.378594</td>\n",
       "      <td>1.810853</td>\n",
       "    </tr>\n",
       "    <tr>\n",
       "      <th>29</th>\n",
       "      <td>male</td>\n",
       "      <td>associate</td>\n",
       "      <td>3</td>\n",
       "      <td>masters</td>\n",
       "      <td>17</td>\n",
       "      <td>23725.0</td>\n",
       "      <td>-0.028157</td>\n",
       "      <td>1.420961</td>\n",
       "    </tr>\n",
       "    <tr>\n",
       "      <th>30</th>\n",
       "      <td>female</td>\n",
       "      <td>assistant</td>\n",
       "      <td>10</td>\n",
       "      <td>masters</td>\n",
       "      <td>15</td>\n",
       "      <td>21600.0</td>\n",
       "      <td>-0.379945</td>\n",
       "      <td>1.663285</td>\n",
       "    </tr>\n",
       "    <tr>\n",
       "      <th>31</th>\n",
       "      <td>male</td>\n",
       "      <td>associate</td>\n",
       "      <td>11</td>\n",
       "      <td>masters</td>\n",
       "      <td>31</td>\n",
       "      <td>23300.0</td>\n",
       "      <td>-0.098514</td>\n",
       "      <td>0.360792</td>\n",
       "    </tr>\n",
       "    <tr>\n",
       "      <th>32</th>\n",
       "      <td>male</td>\n",
       "      <td>assistant</td>\n",
       "      <td>9</td>\n",
       "      <td>masters</td>\n",
       "      <td>14</td>\n",
       "      <td>23713.0</td>\n",
       "      <td>-0.030143</td>\n",
       "      <td>1.110282</td>\n",
       "    </tr>\n",
       "    <tr>\n",
       "      <th>33</th>\n",
       "      <td>female</td>\n",
       "      <td>associate</td>\n",
       "      <td>4</td>\n",
       "      <td>masters</td>\n",
       "      <td>33</td>\n",
       "      <td>20690.0</td>\n",
       "      <td>-0.530594</td>\n",
       "      <td>0.209853</td>\n",
       "    </tr>\n",
       "    <tr>\n",
       "      <th>34</th>\n",
       "      <td>female</td>\n",
       "      <td>associate</td>\n",
       "      <td>6</td>\n",
       "      <td>masters</td>\n",
       "      <td>29</td>\n",
       "      <td>22450.0</td>\n",
       "      <td>-0.239230</td>\n",
       "      <td>-0.020625</td>\n",
       "    </tr>\n",
       "    <tr>\n",
       "      <th>35</th>\n",
       "      <td>male</td>\n",
       "      <td>associate</td>\n",
       "      <td>1</td>\n",
       "      <td>doctorate</td>\n",
       "      <td>9</td>\n",
       "      <td>20850.0</td>\n",
       "      <td>-0.504106</td>\n",
       "      <td>-0.475767</td>\n",
       "    </tr>\n",
       "    <tr>\n",
       "      <th>36</th>\n",
       "      <td>female</td>\n",
       "      <td>assistant</td>\n",
       "      <td>8</td>\n",
       "      <td>doctorate</td>\n",
       "      <td>14</td>\n",
       "      <td>18304.0</td>\n",
       "      <td>-0.925591</td>\n",
       "      <td>-0.203682</td>\n",
       "    </tr>\n",
       "    <tr>\n",
       "      <th>37</th>\n",
       "      <td>male</td>\n",
       "      <td>assistant</td>\n",
       "      <td>4</td>\n",
       "      <td>doctorate</td>\n",
       "      <td>4</td>\n",
       "      <td>17095.0</td>\n",
       "      <td>-1.125738</td>\n",
       "      <td>-0.319572</td>\n",
       "    </tr>\n",
       "    <tr>\n",
       "      <th>38</th>\n",
       "      <td>male</td>\n",
       "      <td>assistant</td>\n",
       "      <td>4</td>\n",
       "      <td>doctorate</td>\n",
       "      <td>5</td>\n",
       "      <td>16700.0</td>\n",
       "      <td>-1.191129</td>\n",
       "      <td>-0.679302</td>\n",
       "    </tr>\n",
       "    <tr>\n",
       "      <th>39</th>\n",
       "      <td>male</td>\n",
       "      <td>assistant</td>\n",
       "      <td>4</td>\n",
       "      <td>doctorate</td>\n",
       "      <td>4</td>\n",
       "      <td>17600.0</td>\n",
       "      <td>-1.042136</td>\n",
       "      <td>-0.771069</td>\n",
       "    </tr>\n",
       "    <tr>\n",
       "      <th>41</th>\n",
       "      <td>male</td>\n",
       "      <td>assistant</td>\n",
       "      <td>3</td>\n",
       "      <td>masters</td>\n",
       "      <td>11</td>\n",
       "      <td>18000.0</td>\n",
       "      <td>-0.975917</td>\n",
       "      <td>2.671681</td>\n",
       "    </tr>\n",
       "    <tr>\n",
       "      <th>42</th>\n",
       "      <td>male</td>\n",
       "      <td>associate</td>\n",
       "      <td>0</td>\n",
       "      <td>doctorate</td>\n",
       "      <td>7</td>\n",
       "      <td>20999.0</td>\n",
       "      <td>-0.479440</td>\n",
       "      <td>0.380677</td>\n",
       "    </tr>\n",
       "    <tr>\n",
       "      <th>43</th>\n",
       "      <td>female</td>\n",
       "      <td>assistant</td>\n",
       "      <td>3</td>\n",
       "      <td>doctorate</td>\n",
       "      <td>3</td>\n",
       "      <td>17250.0</td>\n",
       "      <td>-1.100078</td>\n",
       "      <td>0.551809</td>\n",
       "    </tr>\n",
       "    <tr>\n",
       "      <th>44</th>\n",
       "      <td>male</td>\n",
       "      <td>assistant</td>\n",
       "      <td>2</td>\n",
       "      <td>doctorate</td>\n",
       "      <td>3</td>\n",
       "      <td>16500.0</td>\n",
       "      <td>-1.224239</td>\n",
       "      <td>0.249987</td>\n",
       "    </tr>\n",
       "    <tr>\n",
       "      <th>45</th>\n",
       "      <td>male</td>\n",
       "      <td>assistant</td>\n",
       "      <td>2</td>\n",
       "      <td>doctorate</td>\n",
       "      <td>1</td>\n",
       "      <td>16094.0</td>\n",
       "      <td>-1.291451</td>\n",
       "      <td>0.112523</td>\n",
       "    </tr>\n",
       "    <tr>\n",
       "      <th>46</th>\n",
       "      <td>female</td>\n",
       "      <td>assistant</td>\n",
       "      <td>2</td>\n",
       "      <td>doctorate</td>\n",
       "      <td>6</td>\n",
       "      <td>16150.0</td>\n",
       "      <td>-1.282180</td>\n",
       "      <td>-0.086295</td>\n",
       "    </tr>\n",
       "    <tr>\n",
       "      <th>47</th>\n",
       "      <td>female</td>\n",
       "      <td>assistant</td>\n",
       "      <td>2</td>\n",
       "      <td>doctorate</td>\n",
       "      <td>2</td>\n",
       "      <td>15350.0</td>\n",
       "      <td>-1.414619</td>\n",
       "      <td>-0.409242</td>\n",
       "    </tr>\n",
       "    <tr>\n",
       "      <th>48</th>\n",
       "      <td>male</td>\n",
       "      <td>assistant</td>\n",
       "      <td>1</td>\n",
       "      <td>doctorate</td>\n",
       "      <td>1</td>\n",
       "      <td>16244.0</td>\n",
       "      <td>-1.266619</td>\n",
       "      <td>-0.613603</td>\n",
       "    </tr>\n",
       "    <tr>\n",
       "      <th>49</th>\n",
       "      <td>female</td>\n",
       "      <td>assistant</td>\n",
       "      <td>1</td>\n",
       "      <td>doctorate</td>\n",
       "      <td>1</td>\n",
       "      <td>16686.0</td>\n",
       "      <td>-1.193447</td>\n",
       "      <td>-0.659300</td>\n",
       "    </tr>\n",
       "    <tr>\n",
       "      <th>50</th>\n",
       "      <td>female</td>\n",
       "      <td>assistant</td>\n",
       "      <td>1</td>\n",
       "      <td>doctorate</td>\n",
       "      <td>1</td>\n",
       "      <td>15000.0</td>\n",
       "      <td>-1.472560</td>\n",
       "      <td>-0.912654</td>\n",
       "    </tr>\n",
       "    <tr>\n",
       "      <th>51</th>\n",
       "      <td>female</td>\n",
       "      <td>assistant</td>\n",
       "      <td>0</td>\n",
       "      <td>doctorate</td>\n",
       "      <td>2</td>\n",
       "      <td>20300.0</td>\n",
       "      <td>-0.595157</td>\n",
       "      <td>-0.927636</td>\n",
       "    </tr>\n",
       "  </tbody>\n",
       "</table>\n",
       "</div>"
      ],
      "text/plain": [
       "        sx         rk  yr         dg  yd       sl  z_salary    rank_z\n",
       "0     male       full  25  doctorate  35  36350.0  2.061883  1.506601\n",
       "1     male       full  13  doctorate  22  35350.0  1.896335  0.821658\n",
       "2     male       full  10  doctorate  23  28200.0  0.712669  0.432602\n",
       "3   female       full   7  doctorate  27  26775.0  0.476764  0.326197\n",
       "4     male       full  19    masters  30  33696.0  1.622519  0.036442\n",
       "5     male       full  16  doctorate  21  28516.0  0.764982 -0.126045\n",
       "6   female       full   0    masters  32  24900.0  0.166362 -0.132401\n",
       "7     male       full  16  doctorate  18  31909.0  1.326686 -0.507923\n",
       "8     male       full  13    masters  30  31850.0  1.316918 -0.566547\n",
       "9     male       full  13    masters  31  32850.0  1.482466 -0.586437\n",
       "10    male       full  12  doctorate  22  27025.0  0.518151 -0.751093\n",
       "11    male  associate  15  doctorate  19  24750.0  0.141530 -1.421057\n",
       "12    male       full   9  doctorate  17  28200.0  0.712669 -0.887408\n",
       "14    male       full   9  doctorate  24  25748.0  0.306746  2.354928\n",
       "15    male       full   7  doctorate  15  29342.0  0.901725  1.219389\n",
       "16    male       full  13  doctorate  20  31114.0  1.195075  0.759296\n",
       "17    male  associate  11    masters  14  24742.0  0.140205 -0.261739\n",
       "18    male  associate  10    masters  15  22906.0 -0.163740       NaN\n",
       "19    male       full   6    masters  21  24450.0  0.091865 -0.263931\n",
       "20    male  assistant  16    masters  23  19175.0 -0.781399 -0.777212\n",
       "21    male  associate   8    masters  31  20525.0 -0.557909 -1.175124\n",
       "22    male       full   7  doctorate  13  27959.0  0.672772 -1.429381\n",
       "23  female       full   8  doctorate  24  38045.0  2.342486 -1.603906\n",
       "25    male       full   5  doctorate  18  25400.0  0.249136  0.397757\n",
       "26    male  associate  11  doctorate  14  24800.0  0.149807 -0.828824\n",
       "27  female       full   5  doctorate  16  25500.0  0.265691 -0.999796\n",
       "28    male  associate   3    masters   7  26182.0  0.378594  1.810853\n",
       "29    male  associate   3    masters  17  23725.0 -0.028157  1.420961\n",
       "30  female  assistant  10    masters  15  21600.0 -0.379945  1.663285\n",
       "31    male  associate  11    masters  31  23300.0 -0.098514  0.360792\n",
       "32    male  assistant   9    masters  14  23713.0 -0.030143  1.110282\n",
       "33  female  associate   4    masters  33  20690.0 -0.530594  0.209853\n",
       "34  female  associate   6    masters  29  22450.0 -0.239230 -0.020625\n",
       "35    male  associate   1  doctorate   9  20850.0 -0.504106 -0.475767\n",
       "36  female  assistant   8  doctorate  14  18304.0 -0.925591 -0.203682\n",
       "37    male  assistant   4  doctorate   4  17095.0 -1.125738 -0.319572\n",
       "38    male  assistant   4  doctorate   5  16700.0 -1.191129 -0.679302\n",
       "39    male  assistant   4  doctorate   4  17600.0 -1.042136 -0.771069\n",
       "41    male  assistant   3    masters  11  18000.0 -0.975917  2.671681\n",
       "42    male  associate   0  doctorate   7  20999.0 -0.479440  0.380677\n",
       "43  female  assistant   3  doctorate   3  17250.0 -1.100078  0.551809\n",
       "44    male  assistant   2  doctorate   3  16500.0 -1.224239  0.249987\n",
       "45    male  assistant   2  doctorate   1  16094.0 -1.291451  0.112523\n",
       "46  female  assistant   2  doctorate   6  16150.0 -1.282180 -0.086295\n",
       "47  female  assistant   2  doctorate   2  15350.0 -1.414619 -0.409242\n",
       "48    male  assistant   1  doctorate   1  16244.0 -1.266619 -0.613603\n",
       "49  female  assistant   1  doctorate   1  16686.0 -1.193447 -0.659300\n",
       "50  female  assistant   1  doctorate   1  15000.0 -1.472560 -0.912654\n",
       "51  female  assistant   0  doctorate   2  20300.0 -0.595157 -0.927636"
      ]
     },
     "execution_count": 122,
     "metadata": {},
     "output_type": "execute_result"
    }
   ],
   "source": [
    "calc_zscore = lambda x: (x - x.mean()) / x.std()\n",
    "\n",
    "salary['z_salary'] = salary['sl'].transform(calc_zscore)\n",
    "\n",
    "salary['rank_z'] = df['salary'].groupby(salary['rk']).transform(calc_zscore)\n",
    "\n",
    "salary"
   ]
  }
 ],
 "metadata": {
  "anaconda-cloud": {},
  "kernelspec": {
   "display_name": "Python 3.10.8 ('neuro')",
   "language": "python",
   "name": "python3"
  },
  "language_info": {
   "codemirror_mode": {
    "name": "ipython",
    "version": 3
   },
   "file_extension": ".py",
   "mimetype": "text/x-python",
   "name": "python",
   "nbconvert_exporter": "python",
   "pygments_lexer": "ipython3",
   "version": "3.10.8"
  },
  "toc": {
   "base_numbering": 1,
   "nav_menu": {
    "height": "44px",
    "width": "252px"
   },
   "number_sections": true,
   "sideBar": true,
   "skip_h1_title": false,
   "title_cell": "Table of Contents",
   "title_sidebar": "Contents",
   "toc_cell": false,
   "toc_position": {
    "height": "calc(100% - 180px)",
    "left": "10px",
    "top": "150px",
    "width": "231.837px"
   },
   "toc_section_display": "block",
   "toc_window_display": true
  },
  "vscode": {
   "interpreter": {
    "hash": "7161e958a760a021d2cc6a2854096da64846b3f5754ba6b4985d61d142583539"
   }
  }
 },
 "nbformat": 4,
 "nbformat_minor": 2
}
