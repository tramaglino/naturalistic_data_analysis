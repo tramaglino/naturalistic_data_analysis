{
 "cells": [
  {
   "cell_type": "code",
   "execution_count": 24,
   "metadata": {},
   "outputs": [],
   "source": [
    "data_dir = '/home/lorenzo/'\n",
    "sub = 'crap_forrest_diff.nii'\n",
    "sub1 = 'crap_forrest_action_full_delay5_tris.nii'\n",
    "img = nib.load(data_dir + sub1)\n",
    "img_data = img.get_fdata()[:, :, :, 1]\n",
    "\n"
   ]
  },
  {
   "cell_type": "code",
   "execution_count": null,
   "metadata": {},
   "outputs": [],
   "source": [
    "import nibabel as nib\n",
    "import os\n",
    "import numpy as np\n",
    "from nilearn.plotting import view_img, plot_glass_brain, plot_anat, plot_epi\n",
    "\n",
    "plot_glass_brain(img_data, threshold=0.5, vmax=1, cmap='gray', symmetric_cmap=False, black_bg=True, draw_cross=False, annotate=False, title='epi_diff.nii.gz')\n"
   ]
  },
  {
   "cell_type": "code",
   "execution_count": 7,
   "metadata": {},
   "outputs": [],
   "source": [
    "%matplotlib inline\n",
    "\n",
    "from nilearn.plotting import view_img, plot_glass_brain, plot_anat, plot_epi\n",
    "\n",
    "plot_epi(data.get_fdata()[:,:,:,0])"
   ]
  }
 ],
 "metadata": {
  "kernelspec": {
   "display_name": "Python 3.10.8 ('neuro')",
   "language": "python",
   "name": "python3"
  },
  "language_info": {
   "codemirror_mode": {
    "name": "ipython",
    "version": 3
   },
   "file_extension": ".py",
   "mimetype": "text/x-python",
   "name": "python",
   "nbconvert_exporter": "python",
   "pygments_lexer": "ipython3",
   "version": "3.10.8"
  },
  "orig_nbformat": 4,
  "vscode": {
   "interpreter": {
    "hash": "7161e958a760a021d2cc6a2854096da64846b3f5754ba6b4985d61d142583539"
   }
  }
 },
 "nbformat": 4,
 "nbformat_minor": 2
}
